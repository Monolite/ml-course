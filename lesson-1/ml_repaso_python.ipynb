{
  "cells": [
    {
      "cell_type": "markdown",
      "metadata": {
        "id": "gHNwNIRoKE_r"
      },
      "source": [
        "# Basicos de Python y Jupyter Notebooks\n",
        "Como ya vimos, Python es un lenguaje de alto nivel, de propósito general e\n",
        "interpretado.\n",
        "En este notebook veremos algunos fundamentos sobre cómo crear programas en\n",
        "Python; adicionalmente, aprenderemos como usar los notebooks de Jupyter.\n",
        "\n",
        "Los notebooks constan de *celdas*, que son espacios donde podemos añadir\n",
        "contenido a nuestro archivo. Existen dos tipos de celdas:\n",
        "- De texto: tal como esta celda, en la que se encuentra este texto. Se puede\n",
        "introducir texto, imágenes, links, ecuaciones formateadas con LaTeX, etc. Nota:\n",
        "el texto se escribe en lenguaje **Markdown**\n",
        "- De código: donde escribiremos el código\n",
        "\n",
        "Para ejecutar una celda, basta con posicionarnos sobre ella haciendo click en\n",
        "la misma; después, bastará con presionar: `Shift + Enter`, o, también, se puede\n",
        "hacer click en el ícono de de play en el lado izquierdo de la celda.\n",
        "\n",
        "Las celdas de texto, al ejecutarse, mostraran el texto y demás elementos en su\n",
        "formato visual. Por su parte, las celdas de código, al ejecutarse, mostrarán\n",
        "inmediatamente debajo de ellas, una zona de *output*, donde podremos visualizar\n",
        "la evaluación de la última expresión, cualquier línea que use el comando\n",
        "`print` o similares e incluso, gráficas.\n",
        "\n",
        "## Ecuaciones\n",
        "Jupyter nos permite escribir ecuaciones mediante código LaTeX, podemos\n",
        "escribirlas de manera *inline*, haciendo usos de la siguiente sintáxis:\n",
        "`$escriba su ecuación aquí$`. Por ejemplo, la ecuación de la recta es:\n",
        "$y = mx + b$.\n",
        "\n",
        "También podemos escribir ecuaciones en una sección independiente del párrafo\n",
        "escrito, para ello, debemos primero pasar a una nueva línea, en ésta escribir\n",
        "doble signo de pesos (`$$`), en las siguientes líneas escribir nuestras\n",
        "ecuaciones y, por último, en una nueva línea, cerrar el entorno mediante doble\n",
        "signo de pesos (`$$`).\n",
        "\n",
        "Por ejemplo: la ecuación más famosa de la física es:\n",
        "$$\n",
        "E = mc^2\n",
        "$$\n",
        "aunque la mayoría no sabemos sus implicaciones ni cómo operarla.\n",
        "\n",
        "## Imagenes\n",
        "Para introducir imágenes en nuestros notebooks, hacemos uso de la siguiente\n",
        "sintáxis: `![Caption por si no se puede mostrar la figura](url de la imagen)`\n",
        "Por ejemplo:\n",
        "\n",
        "`![Atractor de Lorentz](https://scipython.com/static/media/blog/lorenz/lorenz2.png)`\n",
        "\n",
        "![Atractor de Lorentz](https://scipython.com/static/media/blog/lorenz/lorenz2.png)\n",
        "\n",
        "## Código dentro de celdas de texto\n",
        "Se puede introducir código (y resaltarlo como tal) dentro de una celda de texto,\n",
        "sin ebargo, este código no es ejecutable, sino una visualización.\n",
        "\n",
        "Para introducir código podemos hacerlo, al igual que con las ecuaciones, de modo\n",
        "*inline* o en bloques completos. Para el modo *inline*, basta con encerrar el\n",
        "código dentro de acentos graves \"\\`\", por ejemplo: \\`print(\"hola, mundo\")\\`, que\n",
        "se ve así: `print(\"hola, mundo\")`.\n",
        "\n",
        "También podemos escribir bloques de código, para ello debemos pasar a una nueva\n",
        "línea y escribir tres acentos graves \"\\`\\`\\`\"; en las líneas posteriores se\n",
        "escribe el código y, al final, se vuelve a cerrar con tres acentos graves.\n",
        "Adicionalmente, si queremos que ponga de color nuestro código, podemos indicar\n",
        "a un lado de los primeros acentos graves, el lenguaje en el que está escrito el\n",
        "código, por ejemplo: \"\\`\\`\\` python\".\n",
        "\n",
        "Un bloque de código se ve de la siguiente manera:\n",
        "```python\n",
        "import numpy as np\n",
        "import pandas as pd\n",
        "\n",
        "def create_array():\n",
        "    return np.zeros((3, 3))\n",
        "\n",
        "a = create_array()\n",
        "print(\"Bienvenidos al curso de Machine Learning! :)\")\n",
        "```\n",
        "\n",
        "## Indentación\n",
        "Python es un lenguaje donde la indentación es forzosa. El término indentación se\n",
        "refiere al número de espacios en blanco que se encuentran al principio de una\n",
        "línea de código, es decir, antes de que aparezca el primer símbolo de la\n",
        "instrucción.\n",
        "\n",
        "En Python, la indentación sirve para indicar un bloque de código; dentro de un\n",
        "mismo bloque de código debemos mantener el mismo número de espacios en blanco,\n",
        "de otro modo, obtendremos un error."
      ]
    },
    {
      "cell_type": "code",
      "execution_count": null,
      "metadata": {
        "id": "X73LK6BtMuNz"
      },
      "outputs": [],
      "source": [
        "# Indentacion valida. Este codigo corre sin problemas\n",
        "if 3 < 5:\n",
        "    a = 1\n",
        "    b = 2\n",
        "\n",
        "# Indentacion invalida. Este codigo no corre\n",
        "\"\"\"\n",
        "if 3 < 5:\n",
        "  a = 1\n",
        "  b = 2\n",
        "\"\"\""
      ]
    },
    {
      "cell_type": "markdown",
      "metadata": {
        "id": "JByG6gwzN2AV"
      },
      "source": [
        "## Comentarios\n",
        "Como acabas de observar, los comentarios en Python se realizan con el símbolo\n",
        "**#** al inicio de una línea; todo el contenido de esa línea será ignorado por\n",
        "el intérprete.\n",
        "\n",
        "También existen comentarios multilínea, que inician con tres comillas **\"**,\n",
        "seguido de todas las líneas que se desean comentar y terminan con tres comillas."
      ]
    },
    {
      "cell_type": "code",
      "execution_count": null,
      "metadata": {
        "id": "tAJ4ZRkrJ6sm"
      },
      "outputs": [],
      "source": [
        "a = 42  # los comentarios también pueden ir al final de una línea de codigo"
      ]
    },
    {
      "cell_type": "markdown",
      "metadata": {
        "id": "m_-x4Ev7OnQn"
      },
      "source": [
        "## Variables\n",
        "- Son contenedores donde almacenaremos valores o estructuras de datos\n",
        "- No hay un comando para crearlas; se hace al momento en el que se le asigna un\n",
        "valor por primera vez\n",
        "- No se debe asignar un tipo de dato a la variable, incluso-- durante la\n",
        "ejecución del programa-- pueden cambiar el tipo de dato que almacenan.\n",
        "\n",
        "### Reglas para nombrar variables\n",
        "- El nombre debe empezar con letras o con guión bajo (_)\n",
        "- El nombre **no** puede comenzar con un número\n",
        "- Solo puede contener símbolos alfanuméricos (A-Z, a-z, 0-9 y _)\n",
        "- **Sí** hay diferencia entre mayúsculas y minúsculas: edad, EDAD, Edad,\n",
        "representan diferentes variables\n",
        "- Una variable no puede tener como nombre una **palabra reservada** del lenguaje\n"
      ]
    },
    {
      "cell_type": "code",
      "execution_count": null,
      "metadata": {
        "id": "vpcBHKnnP_2v"
      },
      "outputs": [],
      "source": [
        "# cambio de tipo de dato\n",
        "a = 1\n",
        "a = 'hola'\n",
        "a = 4.2\n",
        "\n",
        "# nombres correctos de variables\n",
        "_a = 1\n",
        "a_ = 1\n",
        "abcdefghijklmnopqrstu = 42\n",
        "a_1 = 1\n",
        "\n",
        "# nombres incorrectos de variables\n",
        "# 1_a = 1\n",
        "# *_a = 1\n"
      ]
    },
    {
      "cell_type": "markdown",
      "metadata": {
        "id": "PaRo0ynoQeT1"
      },
      "source": [
        "Python permite asignar multiples valores a multiples variables en una sola línea, y el mismo valor a múltiples variables:"
      ]
    },
    {
      "cell_type": "code",
      "execution_count": null,
      "metadata": {
        "colab": {
          "base_uri": "https://localhost:8080/"
        },
        "id": "0Po4PJu-Qc3r",
        "outputId": "05465f0a-8ef6-4ff8-a772-52a057608bd3"
      },
      "outputs": [
        {
          "output_type": "stream",
          "name": "stdout",
          "text": [
            "multiples variables, multiples valores\n",
            "a: 1\n",
            "b: 2\n",
            "c: 3\n",
            "\n",
            "multiples variables, unico valor\n",
            "x: 42\n",
            "y: 42\n",
            "z: 42\n"
          ]
        }
      ],
      "source": [
        "# multiples variables, multiples valores\n",
        "a, b, c = 1, 2, 3\n",
        "print(\"multiples variables, multiples valores\")\n",
        "print(f\"a: {a}\")\n",
        "print(f\"b: {b}\")\n",
        "print(f\"c: {c}\")\n",
        "print()\n",
        "\n",
        "# multiples variables, unico valor\n",
        "print(\"multiples variables, unico valor\")\n",
        "x = y = z = 42\n",
        "print(f\"x: {x}\")\n",
        "print(f\"y: {y}\")\n",
        "print(f\"z: {z}\")"
      ]
    },
    {
      "cell_type": "markdown",
      "metadata": {
        "id": "BreuBlBDRjM4"
      },
      "source": [
        "## Tipos de Datos *Nativos*\n",
        "Las variables pueden tener diferentes tipos de datos; es importante saber qué\n",
        "tipo de dato contiene una variable, ya que de ello depende el tipo de\n",
        "operaciones que podemos realizar sobre ella,\n",
        "\n",
        "Los tipos de datos que soporta Python por default son:\n",
        "- Texto: `str`\n",
        "- Numericos: `int, float, complex`\n",
        "- Secuencias: `list, tuple, range`\n",
        "- Mapeo: `dict`\n",
        "- Conjuntos: `set, frozenset`\n",
        "- Booleanos: `bool`\n",
        "- Binarios: `bytes, bytearray, memoryview`\n",
        "- Ninguno: `None`\n",
        "\n",
        "Para saber el tipo de dato que contiene una variable, hacemos uso de la función\n",
        "`type`:"
      ]
    },
    {
      "cell_type": "code",
      "execution_count": null,
      "metadata": {
        "colab": {
          "base_uri": "https://localhost:8080/"
        },
        "id": "HFLiA49xSoNb",
        "outputId": "12e9ee9c-730a-4d14-d9a0-7bf6f47c6b8f"
      },
      "outputs": [
        {
          "output_type": "stream",
          "name": "stdout",
          "text": [
            "a: <class 'int'>\n",
            "b: <class 'list'>\n",
            "c: <class 'bool'>\n",
            "d: <class 'NoneType'>\n"
          ]
        }
      ],
      "source": [
        "a = 1\n",
        "print(f\"a: {type(a)}\")\n",
        "\n",
        "b = [1, 2, 3]\n",
        "print(f\"b: {type(b)}\")\n",
        "\n",
        "c = True\n",
        "print(f\"c: {type(c)}\")\n",
        "\n",
        "d = None\n",
        "print(f\"d: {type(d)}\")\n"
      ]
    },
    {
      "cell_type": "markdown",
      "metadata": {
        "id": "SKFjOVc0PTUK"
      },
      "source": [
        "También podemos asignar un tipo de dato específico a nuestras variables:"
      ]
    },
    {
      "cell_type": "code",
      "execution_count": null,
      "metadata": {
        "colab": {
          "base_uri": "https://localhost:8080/"
        },
        "id": "RNwAUTZ-UErB",
        "outputId": "3db87596-a2ad-478e-a521-97dc1f159b92"
      },
      "outputs": [
        {
          "output_type": "stream",
          "name": "stdout",
          "text": [
            "a: <class 'int'>\n"
          ]
        }
      ],
      "source": [
        "a = int(20.0)\n",
        "print(f\"a: {type(a)}\")"
      ]
    },
    {
      "cell_type": "markdown",
      "metadata": {
        "id": "lvcUkXuvVNSL"
      },
      "source": [
        "## Colecciones (Arrays)\n",
        "Existen 4 tipos de datos de colecciones en Python:\n",
        "- List: ordenadas y mutables. Permite duplicados\n",
        "- Tuple: ordenadas y **no** mutables. Permite duplicados\n",
        "- Set: desordenados,  **no** mutables y **no** indizados. **No** permite duplicados. **Análogos a los conjuntos matemáticos (teoría de conjuntos)**\n",
        "- Dictionary: ordenados (dependiendo de la version de Python) y mutable. **No\n",
        "permite duplicados**\n",
        "\n",
        "## Listas\n",
        "Se utilizan para almacenar multiples valores en una sola variable. Tienen las\n",
        "siguientes características:\n",
        "- se crean usando corchetes \"[]\"\n",
        "- ordenadas, mutables y permiten duplicados\n",
        "- indexadas: el primer elemento tiene el indice [0], el segundo el indice [1] y\n",
        "así sucesivamente. También podemos indizar del final hacia el principio, donde\n",
        "el último elemento tiene el índice [-1], el penúltimo el indice [-2], etc.\n",
        "- si se agrega un nuevo elemento a la lista, se agregará al final de la misma.\n",
        "Función `append()`\n",
        "- mutables: podemos cambiar el valor de un elemento de la lista, agregar o\n",
        "eliminar elementos.\n",
        "- Para saber el número de elementos en una lista, utilizamos la función\n",
        "`len()`\n"
      ]
    },
    {
      "cell_type": "code",
      "execution_count": null,
      "metadata": {
        "colab": {
          "base_uri": "https://localhost:8080/"
        },
        "id": "V84Kp-uMUJ5f",
        "outputId": "93d84f8c-b2ee-4b04-bbda-bf80cc38dc61"
      },
      "outputs": [
        {
          "output_type": "stream",
          "name": "stdout",
          "text": [
            "a: [1, 2, 3, 4]\n",
            "primer elemento, indice 0: 1\n",
            "segundo elemento, indice 1: 2\n",
            "ultimo elemento, indice -1: 4\n",
            "penultimo elemento, indice -2: 3\n",
            "primer  elemento con indice negativo, indice -4: 1\n",
            "Numero de elementos en la lista: 4\n",
            "\n",
            "Lista antes de mutacion: [1, 2, 3, 4]\n",
            "Lista despues de mutacion: [1, 2, 42, 4]\n",
            "\n",
            "Lista antes de agregar elemento: [1, 2, 42, 4]\n",
            "Lista despues de agregar elemento: [1, 2, 42, 4, 84]\n",
            "\n",
            "Lista antes de eliminar elemento: [1, 2, 42, 4, 84]\n",
            "Lista despues de eliminar elemento: [1, 2, 42, 4]\n",
            "\n",
            "checando si 42 esta en a: True\n",
            "checando si 21 esta en a: False\n",
            "a antes de extenderla: [1, 2, 42, 4]\n",
            "a despues de extenderla: [1, 2, 42, 4, 6, 7, 8, 9]\n",
            "\n",
            "1 2 42 4 6 7 8 9 \n",
            "\n",
            "1 2 42 4 6 7 8 9 \n",
            "\n",
            "\n",
            "\n",
            "\n",
            "Lista con diferentes tipos de datos: [1, '1', 1.2, (1+1j), [1, 2, 3]]\n"
          ]
        }
      ],
      "source": [
        "# creacion de lista\n",
        "a = [1, 2, 3, 4]\n",
        "\n",
        "# indexado\n",
        "print(f\"a: {a}\")\n",
        "print(f\"primer elemento, indice 0: {a[0]}\")\n",
        "print(f\"segundo elemento, indice 1: {a[1]}\")\n",
        "print(f\"ultimo elemento, indice -1: {a[-1]}\")\n",
        "print(f\"penultimo elemento, indice -2: {a[-2]}\")\n",
        "print(f\"primer  elemento con indice negativo, indice -4: {a[-len(a)]}\")\n",
        "print(f\"Numero de elementos en la lista: {len(a)}\")\n",
        "\n",
        "# cambiar un elemento de la lista\n",
        "print()\n",
        "print(f\"Lista antes de mutacion: {a}\")\n",
        "a[2] = 42\n",
        "print(f\"Lista despues de mutacion: {a}\")\n",
        "\n",
        "# agregar un elemento a la lista\n",
        "print()\n",
        "print(f\"Lista antes de agregar elemento: {a}\")\n",
        "a.append(84)\n",
        "print(f\"Lista despues de agregar elemento: {a}\")\n",
        "\n",
        "# eliminar un elemento de la lista\n",
        "print()\n",
        "print(f\"Lista antes de eliminar elemento: {a}\")\n",
        "a.pop(-1)  # indicar qué indice se va a eliminar\n",
        "print(f\"Lista despues de eliminar elemento: {a}\")\n",
        "\n",
        "# checar si un elemento esta en la lista\n",
        "print()\n",
        "print(f\"checando si 42 esta en a: {42 in a}\")\n",
        "print(f\"checando si 21 esta en a: {21 in a}\")\n",
        "\n",
        "# extender una lista con otra lista\n",
        "b = [6, 7, 8, 9]\n",
        "print(f\"a antes de extenderla: {a}\")\n",
        "a.extend(b)\n",
        "print(f\"a despues de extenderla: {a}\")\n",
        "\n",
        "# iterar sobre una lista a traves de sus elementos\n",
        "print()\n",
        "for elemento in a:\n",
        "    print(elemento, end=' ')\n",
        "print()\n",
        "\n",
        "print()\n",
        "# iterar sobre una lista a traves de sus indices\n",
        "for indice in range(len(a)):\n",
        "    print(a[indice], end=' ')\n",
        "print()\n",
        "print()\n",
        "print()\n",
        "print()\n",
        "\n",
        "# listas con diferentes tipos de datos\n",
        "a = [1, '1', 1.2, 1+1j, [1, 2, 3]]\n",
        "print()\n",
        "print(f\"Lista con diferentes tipos de datos: {a}\")"
      ]
    },
    {
      "cell_type": "markdown",
      "metadata": {
        "id": "-16L4Hr9eX6O"
      },
      "source": [
        "## List Comprehensions\n",
        "Ofrecen una sintaxis más corta al momento de crear una lista basada en los\n",
        "elementos de otra colección ya existente\n",
        "\n",
        "Basado en una lista de nombres, crear una nueva lista con aquellos que tengan la\n",
        "letra \"r\"."
      ]
    },
    {
      "cell_type": "code",
      "execution_count": null,
      "metadata": {
        "colab": {
          "base_uri": "https://localhost:8080/"
        },
        "id": "uO-JSmxTeWzl",
        "outputId": "5f27f78d-b54e-4048-fe1d-8edf8b6d5529"
      },
      "outputs": [
        {
          "output_type": "stream",
          "name": "stdout",
          "text": [
            "Nombres: ['Diana', 'Fiorella', 'America', 'Tania', 'Elsy', 'Ramiro', 'Marco']\n",
            "Lista tradicional: ['Fiorella', 'America', 'Ramiro', 'Marco']\n",
            "Lista con list comprehension: ['Fiorella', 'America', 'Ramiro', 'Marco']\n",
            "\n",
            "Rango de numeros con list comprehension: [0, 1, 2, 3, 4, 5, 6, 7, 8, 9]\n",
            "\n",
            "Nombres con R en mayusculas: ['FIORELLA', 'AMERICA', 'RAMIRO', 'MARCO']\n",
            "\n",
            "Lista con el mismo valor en todos sus elementos:\n",
            "[42, 42, 42, 42, 42, 42, 42, 42, 42, 42]\n",
            "Lista con el __mismo valor en todos sus elementos:\n",
            "[42, 42, 42, 42, 42, 42, 42, 42, 42, 42]\n",
            "\n",
            "Lista condicionando sobre los valores: ['Unknown', 'Fiorella', 'Unknown', 'Unknown', 'Unknown', 'Unknown', 'Unknown']\n"
          ]
        }
      ],
      "source": [
        "nombres = ['Diana', 'Fiorella', 'America', 'Tania', 'Elsy', 'Ramiro',\n",
        "           'Marco']\n",
        "\n",
        "# crear una nueva lista de manera tradicional\n",
        "nombres_con_r_trad = []\n",
        "for nombre in nombres:\n",
        "    if 'r' in nombre or 'R' in nombre:\n",
        "        nombres_con_r_trad.append(nombre)\n",
        "\n",
        "# con list comprehension. Se agrega elemento dependiendo de una condicional\n",
        "nombres_con_r_comp = [nombre for nombre in nombres if ('r' in nombre\n",
        "                                                       or 'R' in nombre)]\n",
        "print(f\"Nombres: {nombres}\")\n",
        "print(f\"Lista tradicional: {nombres_con_r_trad}\")\n",
        "print(f\"Lista con list comprehension: {nombres_con_r_comp}\")\n",
        "\n",
        "# crear listas a traves de iterables\n",
        "rango = [num for num in range(10)]\n",
        "print()\n",
        "print(f\"Rango de numeros con list comprehension: {rango}\")\n",
        "\n",
        "# aplicar expresiones a elementos de la lista\n",
        "nombres_r_upper = [nombre.upper() for nombre in nombres_con_r_comp]\n",
        "print()\n",
        "print(f\"Nombres con R en mayusculas: {nombres_r_upper}\")\n",
        "\n",
        "# asignar el mismo valor a todos los elementos\n",
        "mismo_valor = [42 for _ in range(10)]\n",
        "_mismo_valor = []\n",
        "for _ in range(10):\n",
        "    _mismo_valor.append(42)\n",
        "print()\n",
        "print(f\"Lista con el mismo valor en todos sus elementos:\\n{mismo_valor}\")\n",
        "print(f\"Lista con el __mismo valor en todos sus elementos:\\n{_mismo_valor}\")\n",
        "\n",
        "# aplicar condicionales al valor\n",
        "condicional_sobre_valor = [nombre if nombre == 'Fiorella' else 'Unknown'\n",
        "                          for nombre in nombres]\n",
        "print()\n",
        "print(f\"Lista condicionando sobre los valores: {condicional_sobre_valor}\")"
      ]
    },
    {
      "cell_type": "markdown",
      "metadata": {
        "id": "2JOrkMD2f4Em"
      },
      "source": [
        "## Ordenar Listas\n",
        "Existe el método `sort()` que ordena las listas alfabeticamente o numericamente,\n",
        "en orden ascendente."
      ]
    },
    {
      "cell_type": "code",
      "execution_count": null,
      "metadata": {
        "colab": {
          "base_uri": "https://localhost:8080/"
        },
        "id": "dYpP2L9kXzcg",
        "outputId": "9d42efaa-8bfe-4807-9cbd-a97462895320"
      },
      "outputs": [
        {
          "output_type": "stream",
          "name": "stdout",
          "text": [
            "lista desordenada: ['estados unidos', 'mexico', 'alemania', 'suecia', 'holanda']\n",
            "lista ordenada: ['alemania', 'estados unidos', 'holanda', 'mexico', 'suecia']\n",
            "\n",
            "lista desordenada: [9, 8, 3, 4, 1, 2, 6, 42]\n",
            "lista ordenada: [1, 2, 3, 4, 6, 8, 9, 42]\n",
            "\n",
            "lista desordenada: ['estados unidos', 'mexico', 'alemania', 'suecia', 'holanda']\n",
            "lista ordenada: ['suecia', 'mexico', 'holanda', 'estados unidos', 'alemania']\n",
            "\n",
            "lista desordenada: [9, 8, 3, 4, 1, 2, 6, 42]\n",
            "lista ordenada: [42, 9, 8, 6, 4, 3, 2, 1]\n",
            "lista antes de revertirla: [1, 3, 5, 7, 8, 6, 4, 12]\n",
            "lista después de revertirla: [12, 4, 6, 8, 7, 5, 3, 1]\n"
          ]
        }
      ],
      "source": [
        "alfa = ['estados unidos', 'mexico', 'alemania', 'suecia', 'holanda']\n",
        "print(f\"lista desordenada: {alfa}\")\n",
        "alfa.sort()\n",
        "print(f\"lista ordenada: {alfa}\")\n",
        "\n",
        "print()\n",
        "num = [9, 8, 3, 4, 1, 2, 6, 42]\n",
        "print(f\"lista desordenada: {num}\")\n",
        "num.sort()\n",
        "print(f\"lista ordenada: {num}\")\n",
        "\n",
        "\"\"\" Tambien se puede ordenar en modo descendente \"\"\"\n",
        "print()\n",
        "alfa = ['estados unidos', 'mexico', 'alemania', 'suecia', 'holanda']\n",
        "print(f\"lista desordenada: {alfa}\")\n",
        "alfa.sort(reverse=True)\n",
        "print(f\"lista ordenada: {alfa}\")\n",
        "\n",
        "print()\n",
        "num = [9, 8, 3, 4, 1, 2, 6, 42]\n",
        "print(f\"lista desordenada: {num}\")\n",
        "num.sort(reverse=True)\n",
        "print(f\"lista ordenada: {num}\")\n",
        "\n",
        "# revertir el orden de una lista, sin importar nada\n",
        "lista = [1, 3, 5, 7, 8, 6, 4, 12]\n",
        "print(f\"lista antes de revertirla: {lista}\")\n",
        "lista.reverse()\n",
        "print(f\"lista después de revertirla: {lista}\")"
      ]
    },
    {
      "cell_type": "markdown",
      "metadata": {
        "id": "NVVn9Bn2ihV7"
      },
      "source": [
        "También se puede ordenar *a nuestro antojo*, definiendo una función que\n",
        "indique la jerarquía de los elementos"
      ]
    },
    {
      "cell_type": "code",
      "execution_count": null,
      "metadata": {
        "colab": {
          "base_uri": "https://localhost:8080/"
        },
        "id": "6EwS8Xwoig7D",
        "outputId": "6eb2df2e-8308-4bbd-9204-066f8bdaabe5"
      },
      "outputs": [
        {
          "output_type": "stream",
          "name": "stdout",
          "text": [
            "Lista antes de ordenar: [1, 100, 50, 65, 82, 23]\n",
            "Lista despues de ordenar: [50, 65, 23, 82, 1, 100]\n"
          ]
        }
      ],
      "source": [
        "def myfunc(n):\n",
        "  return abs(n - 50)\n",
        "\n",
        "lista = [1, 100, 50, 65, 82, 23]\n",
        "print(f\"Lista antes de ordenar: {lista}\")\n",
        "lista.sort(key=myfunc)\n",
        "print(f\"Lista despues de ordenar: {lista}\")"
      ]
    },
    {
      "cell_type": "markdown",
      "metadata": {
        "id": "zqlsKSX3n_NR"
      },
      "source": [
        "## Copiar una lista\n",
        "Copiar una lista no es tan fácil como hacer `nueva_lista = lista`, ya que la\n",
        "variable en realidad no almacena todos los valores, sino que guarda una\n",
        "*referencia* a la dirección de memoria en donde comienza la lista.\n",
        "**Esto es importante en Machine Learning, pues este es el comportamiento de la\n",
        "mayoría de nuestros datos**\n",
        "\n",
        "Por lo pronto, es necesario saber que debemos hacer una *hard copy* de la lista,\n",
        "para lo cual usaremos el metodo `copy()`. **Nota:** este método también es\n",
        "implementado en Numpy y Pandas; en general, requeriremos este método para copiar\n",
        "cualquier dato *complejo*, o que involucre más de un solo valor."
      ]
    },
    {
      "cell_type": "code",
      "execution_count": null,
      "metadata": {
        "colab": {
          "base_uri": "https://localhost:8080/"
        },
        "id": "2SRWxsSon--T",
        "outputId": "2685e6f9-2973-4093-e38f-c88339473986"
      },
      "outputs": [
        {
          "output_type": "stream",
          "name": "stdout",
          "text": [
            "lista original: [1, 2, 3, 4, 5, 6, 7, 8, 9]\n",
            "lista original: [42, 2, 3, 4, 5, 6, 7, 8, 9]\n",
            "lista nueva: [42, 2, 3, 4, 5, 6, 7, 8, 9]\n",
            "\n",
            "lista original: [1, 2, 3, 4, 5, 6, 7, 8, 9]\n",
            "Despues de copia\n",
            "lista original: [1, 2, 3, 4, 5, 6, 7, 8, 9]\n",
            "lista nueva: [42, 2, 3, 4, 5, 6, 7, 8, 9]\n"
          ]
        }
      ],
      "source": [
        "# veremos que pasa si no usamos el método copy\n",
        "lista = [1, 2, 3, 4, 5, 6, 7, 8, 9]\n",
        "print(f\"lista original: {lista}\")\n",
        "lista_nueva = lista  # \"copiar\" la lista original\n",
        "lista_nueva[0] = 42\n",
        "print(f\"lista original: {lista}\")\n",
        "print(f\"lista nueva: {lista_nueva}\")\n",
        "\n",
        "# haciendo uso del método copy\n",
        "print()\n",
        "lista = [1, 2, 3, 4, 5, 6, 7, 8, 9]\n",
        "print(f\"lista original: {lista}\")\n",
        "lista_nueva = lista.copy()  # \"copiar\" la lista original\n",
        "lista_nueva[0] = 42  # cambiar un valor de la nueva lista\n",
        "print('Despues de copia')\n",
        "print(f\"lista original: {lista}\")\n",
        "print(f\"lista nueva: {lista_nueva}\")\n"
      ]
    },
    {
      "cell_type": "markdown",
      "metadata": {
        "id": "mZrGaysJqLHm"
      },
      "source": [
        "**Checar [Python Thutor](https://pythontutor.com/)**\n",
        "\n",
        "## Tuples\n",
        "Colección ordenada e inmutable; además, permiten valores duplicados. Se\n",
        "declaran con paréntesis \"()\"\n",
        "\n",
        "Para acceder a un elemento de la tupla, se utiliza el mismo sistema de indices\n",
        "que para listas: [0] corresponde al primer elemento, [1] al segundo, etc.; lo\n",
        "mismo aplica para indices negativos: [-1] al último, [-2] para referirse al\n",
        "penúltimo y así sucesivamente.\n",
        "\n",
        "Para saber cuántos elementos contiene una tupla utilizamos le método `len()`.\n",
        "\n",
        "Como ya mencionamos, las tuplas son inmutables, por lo que nativamente no\n",
        "podemos cambiar un valor, ni agregar nuevos elementos. Sin embargo, existe un\n",
        "*truco* para ambos casos, consiste en convertir la tupla a lista, realizar la\n",
        "operación que requerimos y, finalmente, reconvertir a tupla."
      ]
    },
    {
      "cell_type": "code",
      "execution_count": null,
      "metadata": {
        "colab": {
          "base_uri": "https://localhost:8080/"
        },
        "id": "9llrT0Yfh6jr",
        "outputId": "98ed554e-ed0e-4095-ce91-c0748af8a024"
      },
      "outputs": [
        {
          "output_type": "stream",
          "name": "stdout",
          "text": [
            "Tupla a: (1, 2, 3, 4)\n",
            "primer elemento, indice 0: 1\n",
            "segundo elemento, indice 1: 2\n",
            "ultimo elemento, indice -1: 4\n",
            "penultimo elemento, indice -2: 3\n",
            "Numero de elementos en la tupla: 4\n",
            "\n",
            "Tupla antes de mutacion: (1, 2, 3, 4)\n",
            "Tupla despues de mutacion: (1, 2, 42, 4), tipo de estructura: <class 'tuple'>\n",
            "\n",
            "Tupla antes de agregar elemento: (1, 2, 42, 4)\n",
            "Tupla despues de agregar elemento: (1, 2, 42, 4, 84), tipo de estructura: <class 'tuple'>\n",
            "\n",
            "Tupla antes de eliminar elemento: (1, 2, 42, 4, 84)\n",
            "Tupla despues de eliminar elemento: (1, 2, 4, 84), tipo de estructura: <class 'tuple'>\n",
            "\n",
            "checando si 42 esta en a: False\n",
            "checando si 21 esta en a: False\n",
            "a antes de extenderla: (1, 2, 4, 84)\n",
            "a despues de extenderla: (1, 2, 4, 84, 6, 7, 8, 9), tipo de estructura: <class 'tuple'>\n",
            "\n",
            "1 2 4 84 6 7 8 9 \n",
            "\n",
            "1 2 4 84 6 7 8 9 \n",
            "\n",
            "Lista con diferentes tipos de datos: (1, '1', 1.2, (1+1j), (1, 2, 3))\n"
          ]
        }
      ],
      "source": [
        "# creacion de tupla\n",
        "a = (1, 2, 3, 4)\n",
        "\n",
        "# indexado\n",
        "print(f\"Tupla a: {a}\")\n",
        "print(f\"primer elemento, indice 0: {a[0]}\")\n",
        "print(f\"segundo elemento, indice 1: {a[1]}\")\n",
        "print(f\"ultimo elemento, indice -1: {a[-1]}\")\n",
        "print(f\"penultimo elemento, indice -2: {a[-2]}\")\n",
        "print(f\"Numero de elementos en la tupla: {len(a)}\")\n",
        "\n",
        "# cambiar un elemento de la tupla\n",
        "print()\n",
        "print(f\"Tupla antes de mutacion: {a}\")\n",
        "a = list(a)\n",
        "a[2] = 42\n",
        "a = tuple(a)\n",
        "print(f\"Tupla despues de mutacion: {a}, tipo de estructura: {type(a)}\")\n",
        "\n",
        "\n",
        "# agregar un elemento a la tupla\n",
        "print()\n",
        "print(f\"Tupla antes de agregar elemento: {a}\")\n",
        "a = list(a)\n",
        "a.append(84)\n",
        "a = tuple(a)\n",
        "print(f\"Tupla despues de agregar elemento: {a}, tipo de estructura: {type(a)}\")\n",
        "\n",
        "# eliminar un elemento de la tupla\n",
        "print()\n",
        "print(f\"Tupla antes de eliminar elemento: {a}\")\n",
        "a = list(a)\n",
        "a.pop(2)  # indicar qué indice se va a eliminar\n",
        "a = tuple(a)\n",
        "print(f\"Tupla despues de eliminar elemento: {a}, tipo de estructura: {type(a)}\")\n",
        "\n",
        "# checar si un elemento esta en la tupla\n",
        "print()\n",
        "print(f\"checando si 42 esta en a: {42 in a}\")\n",
        "print(f\"checando si 21 esta en a: {21 in a}\")\n",
        "\n",
        "# extender una tupla con otra coleccion\n",
        "b = (6, 7, 8, 9)\n",
        "print(f\"a antes de extenderla: {a}\")\n",
        "a = a + b\n",
        "print(f\"a despues de extenderla: {a}, tipo de estructura: {type(a)}\")\n",
        "\n",
        "# iterar sobre una tupla a traves de sus elementos\n",
        "print()\n",
        "for elemento in a:\n",
        "    print(elemento, end=' ')\n",
        "print()\n",
        "\n",
        "print()\n",
        "# iterar sobre una tupla a traves de sus indices\n",
        "for indice in range(len(a)):\n",
        "    print(a[indice], end=' ')\n",
        "print()\n",
        "\n",
        "# tupla con diferentes tipos de datos\n",
        "a = (1, '1', 1.2, 1+1j, (1, 2, 3))\n",
        "print()\n",
        "print(f\"Lista con diferentes tipos de datos: {a}\")"
      ]
    },
    {
      "cell_type": "markdown",
      "metadata": {
        "id": "HDklz190twM9"
      },
      "source": [
        "## Desempacar tuplas\n",
        "Cuando creamos una tupla, se dice que la estamos *empacando*. Podemos hacer el\n",
        "proceso inverso, o desempacar, es decir, podemos extraer valores de las tuplas."
      ]
    },
    {
      "cell_type": "code",
      "execution_count": null,
      "metadata": {
        "colab": {
          "base_uri": "https://localhost:8080/"
        },
        "id": "PFKE76n2ta6m",
        "outputId": "e168d560-dfdf-46c8-ed1a-6f84a09d560c"
      },
      "outputs": [
        {
          "output_type": "stream",
          "name": "stdout",
          "text": [
            "tupla: ([1, 3], 2, 3), valores extraidos: [1, 3], 2, 3\n",
            "\n",
            "tupla: (1, 2, 3, 4, 5, 6, 7, 8, 9), valores extraidos: 1, 2, [3, 4, 5, 6, 7, 8, 9]\n",
            "\n",
            "tupla: (1, 2, 3, 4, 5, 6, 7, 8, 9), valores extraidos: 1, [2, 3, 4, 5, 6, 7], 8, 9\n"
          ]
        }
      ],
      "source": [
        "# extraer valores de una tupla\n",
        "a = ([1, 3], 2, 3)\n",
        "uno, dos, tres = a\n",
        "print(f\"tupla: {a}, valores extraidos: {uno}, {dos}, {tres}\")\n",
        "\n",
        "print()\n",
        "a = (1, 2, 3, 4, 5, 6, 7, 8, 9)\n",
        "uno, dos, *resto = a\n",
        "print(f\"tupla: {a}, valores extraidos: {uno}, {dos}, {resto}\")\n",
        "\n",
        "print()\n",
        "uno, *resto, ocho, nueve = a\n",
        "print(f\"tupla: {a}, valores extraidos: {uno}, {resto}, {ocho}, {nueve}\")"
      ]
    },
    {
      "cell_type": "markdown",
      "metadata": {
        "id": "8hRFxLJYuyog"
      },
      "source": [
        "## Iteracion en tuplas\n",
        "Para iterar sobre tuplas se hace de la misma manera que con listas, es decir:\n",
        "mediante los elementos de la misma, o mediante sus indices."
      ]
    },
    {
      "cell_type": "code",
      "execution_count": null,
      "metadata": {
        "colab": {
          "base_uri": "https://localhost:8080/"
        },
        "id": "IUMQ2_VBudYx",
        "outputId": "0a3939cd-d843-4a0d-8771-963f7c568042"
      },
      "outputs": [
        {
          "output_type": "stream",
          "name": "stdout",
          "text": [
            "\n",
            "1 2 3 4 5 6 7 uno dos [1, 2, 3] \n",
            "\n",
            "1 2 3 4 5 6 7 uno dos [1, 2, 3] \n"
          ]
        }
      ],
      "source": [
        "a = (1, 2, 3, 4, 5, 6, 7, 'uno', 'dos', [1, 2, 3])\n",
        "# iterar sobre una lista a traves de sus elementos\n",
        "print()\n",
        "for elemento in a:\n",
        "    print(elemento, end=' ')\n",
        "print()\n",
        "\n",
        "print()\n",
        "# iterar sobre una lista a traves de sus indices\n",
        "for indice in range(len(a)):\n",
        "    print(a[indice], end=' ')\n",
        "print()\n"
      ]
    },
    {
      "cell_type": "markdown",
      "metadata": {
        "id": "JlVAO7xIF_aH"
      },
      "source": [
        "## Sets\n",
        "\n",
        "Los sets son collecciones no ordenadas, inmutables y no indexadas. A pesar de\n",
        "ser inmutables, permiten agregar o eliminar elementos. Además, los sets, que se\n",
        "basan en la teoría de conjuntos, no permiten duplicados en sus elementos.\n",
        "\n",
        "Para crear un set se utiliza el constructor `set()` o las llaves \"{}\".\n",
        "\n",
        "Por otro lado, los sets no están ordenados, es decir, sus elementos no tienen\n",
        "un orden en específico. Por lo que se debe tener especial cuidado al iterar\n",
        "sobre ellos. En diferentes iteradores los elementos pueden aparecer en diferente\n",
        "orden, además de no poder acceder a ellos mediante índices o llaves.\n"
      ]
    },
    {
      "cell_type": "code",
      "execution_count": null,
      "metadata": {
        "colab": {
          "base_uri": "https://localhost:8080/"
        },
        "id": "vjqRmwd5F_KY",
        "outputId": "051e2fc4-d9e0-49b1-9483-6ebe81b86dab"
      },
      "outputs": [
        {
          "output_type": "stream",
          "name": "stdout",
          "text": [
            "set a: {1, 2, 3, 4, 5, 6}\n",
            "\n",
            "set a: {0, 1}\n",
            "\n",
            "set a: {1, 2, 3, 4, 5, 6}\n",
            "1\n",
            "2\n",
            "3\n",
            "4\n",
            "5\n",
            "6\n",
            "\n",
            "set a: {1, 2, 3, 4, 5, 6}\n",
            "9 in a: False\n",
            "1 in a: True\n",
            "\n",
            "a antes de añadir elemento: {1, 2, 3, 4, 5, 6}\n",
            "a despues de añadir elemento: {1, 2, 3, 4, 5, 6, 42}\n",
            "\n",
            "a antes de añadir set: {1, 2, 3, 4, 5, 6, 42}\n",
            "a despues de añadir set: {1, 2, 3, 4, 5, 6, 42, 12, 13, 14, 15}\n",
            "\n",
            "a antes de añadir lista: {1, 2, 3, 4, 5, 6, 42, 12, 13, 14, 15}\n",
            "a despues de añadir lista: {1, 2, 3, 4, 5, 6, 42, 12, 13, 14, 15, 21, 22, 23, 24, 25}\n",
            "tamaño de conjunto a: 6\n",
            "\n",
            "a antes de eliminar elemento: {1, 2, 3, 4, 5, 6}\n",
            "a despues de eliminar elemento: {2, 3, 4, 5, 6}\n",
            "\n",
            "a antes de eliminar elemento: {2, 3, 4, 5, 6}\n",
            "a despues de eliminar elemento: {3, 4, 5, 6}\n",
            "\n",
            "a antes de eliminar elemento: {3, 4, 5, 6}\n",
            "a despues de eliminar elemento: {4, 5, 6}\n",
            "elemento eliminado: 3\n"
          ]
        }
      ],
      "source": [
        "a = {1, 2, 3}\n",
        "b = set()  # para decalarar un set vacío se usa el constructor\n",
        "c = set((1, 2, 3))\n",
        "\n",
        "# no permiten duplicados\n",
        "a = {1, 1, 2, 2, 3, 3, 4, 4, 5, 5, 6, 6}\n",
        "print(f\"set a: {a}\")\n",
        "\n",
        "# equivalencia entre tipos de datos\n",
        "print()\n",
        "a = {1, 1.0, True, 0, 0.0, False}\n",
        "print(f\"set a: {a}\")\n",
        "\n",
        "# acceder a elementos de set mediante loops\n",
        "a = {1, 1, 2, 2, 3, 3, 4, 4, 5, 5, 6, 6}\n",
        "print()\n",
        "print(f\"set a: {a}\")\n",
        "for elem in a:\n",
        "    print(elem)\n",
        "\n",
        "# checar si un elemento esta en un set\n",
        "print()\n",
        "print(f\"set a: {a}\")\n",
        "print(f\"9 in a: {9 in a}\")\n",
        "print(f\"1 in a: {1 in a}\")\n",
        "\n",
        "# añadir un elemento a un set\n",
        "print()\n",
        "print(f\"a antes de añadir elemento: {a}\")\n",
        "a.add(42)\n",
        "print(f\"a despues de añadir elemento: {a}\")\n",
        "\n",
        "# añadir otro set u otra colección\n",
        "new_set = {12, 13, 14, 15}\n",
        "print()\n",
        "print(f\"a antes de añadir set: {a}\")\n",
        "a.update(new_set)\n",
        "print(f\"a despues de añadir set: {a}\")\n",
        "\n",
        "ls = [21, 22, 23, 24, 25]\n",
        "print()\n",
        "print(f\"a antes de añadir lista: {a}\")\n",
        "a.update(ls)\n",
        "print(f\"a despues de añadir lista: {a}\")\n",
        "\n",
        "# eliminar elementos de un set\n",
        "a = {1, 1, 2, 2, 3, 3, 4, 4, 5, 5, 6, 6}\n",
        "print(f\"tamaño de conjunto a: {len(a)}\")\n",
        "print()\n",
        "print(f\"a antes de eliminar elemento: {a}\")\n",
        "a.remove(1)\n",
        "print(f\"a despues de eliminar elemento: {a}\")\n",
        "\n",
        "\n",
        "print()\n",
        "print(f\"a antes de eliminar elemento: {a}\")\n",
        "a.discard(2)\n",
        "print(f\"a despues de eliminar elemento: {a}\")\n",
        "\n",
        "\"\"\"\n",
        "también existe el método pop. Elimina un elemento al azar, la función regresa\n",
        "dicho elemento\n",
        "\"\"\"\n",
        "print()\n",
        "print(f\"a antes de eliminar elemento: {a}\")\n",
        "elemento = a.pop()\n",
        "print(f\"a despues de eliminar elemento: {a}\")\n",
        "print(f\"elemento eliminado: {elemento}\")\n",
        "\n",
        "\n"
      ]
    },
    {
      "cell_type": "markdown",
      "metadata": {
        "id": "XR0yakqcNoch"
      },
      "source": [
        "## Dictionaries\n",
        "Almacenan datos en pares `key:value`, es decir, cada llave tiene asignado un\n",
        "valor.\n",
        "\n",
        "Los diccionarios son ordenados, mutables y no admiten duplicados. Al igual que\n",
        "los sets, se escriben con llaves \"{}\". El intertprete diferencia entre ambos\n",
        "por la sintáxis, en los sets solo hay valores separados por comas; en los\n",
        "diccionarios hay pares `key:value`. Para crear un diccionario vacío podemos\n",
        "hacerlo con las llaves vacías, o con el constructor `dict()`.\n",
        "\n",
        "Para acceder a un elemento de un diccionario se utiliza la llave de manera\n",
        "análoga a los índices en listas y tuplas: `diccionario[llave]`\n",
        "\n",
        "Dado que los diccionarios son mutables, podemos en todo momento agregar o\n",
        "eliminar elementos, y cambiar los valores.\n",
        "\n",
        "Como no admiten duplicados, no podemos tener definida la misma llave dos veces.\n"
      ]
    },
    {
      "cell_type": "code",
      "execution_count": null,
      "metadata": {
        "colab": {
          "base_uri": "https://localhost:8080/"
        },
        "id": "GAeCxsMkPgrJ",
        "outputId": "2e92084c-3121-4cd8-84cc-1214bccd2452"
      },
      "outputs": [
        {
          "output_type": "stream",
          "name": "stdout",
          "text": [
            "Dict d: {'1': 1, 1: 'uno', '2': 2, '3': 3, 'a': [1, 2, 3], 4: (1, 2, 5)}\n",
            "llave '1': 1\n",
            "llave 4: (1, 2, 5)\n",
            "llave '3': 3\n",
            "\n",
            "Dict d: {'1': 1, 1: 'uno', '2': 2, '3': 3, 'a': [1, 2, 3], 4: (1, 2, 5)}\n",
            "Llaves: dict_keys(['1', 1, '2', '3', 'a', 4])\n",
            "Valores: dict_values([1, 'uno', 2, 3, [1, 2, 3], (1, 2, 5)])\n",
            "Items: dict_items([('1', 1), (1, 'uno'), ('2', 2), ('3', 3), ('a', [1, 2, 3]), (4, (1, 2, 5))])\n",
            "\n",
            "llave 5 in d: False\n",
            "llabe '1' in d: True\n",
            "\n",
            "d antes de cambiar valor: {'1': 1, 1: 'uno', '2': 2, '3': 3, 'a': [1, 2, 3], 4: (1, 2, 5)}\n",
            "d despues de cambiar valor: {'1': 1, 1: 'uno', '2': 2, '3': 3, 'a': 'abc', 4: 42}\n",
            "\n",
            "d antes de agregar elemento: {'1': 1, 1: 'uno', '2': 2, '3': 3, 'a': 'abc', 4: 42}\n",
            "d despues de agregar elemento: {'1': 1, 1: 'uno', '2': 2, '3': 3, 'a': 'abc', 4: 42, 21: '21'}\n",
            "\n",
            "d antes de eliminar elemento: {'1': 1, 1: 'uno', '2': 2, '3': 3, 'a': 'abc', 4: 42, 21: '21'}\n",
            "d despues de eliminar elemento: {'1': 1, 1: 'uno', '2': 2, '3': 3, 'a': 'abc', 4: 42}\n"
          ]
        }
      ],
      "source": [
        "d = {'1': 1, 1: 'uno', '2': 2, '3': 3, 'a': [1, 2, 3], 4: (1, 2, 5)}\n",
        "\n",
        "print(f\"Dict d: {d}\")\n",
        "# acceder a un valor mediante su llave:\n",
        "print(f\"llave '1': {d['1']}\")\n",
        "print(f\"llave 4: {d[4]}\")\n",
        "print(f\"llave '3': {d['3']}\")\n",
        "\n",
        "# podemos obtener las llaves o los valores como listas\n",
        "llaves = d.keys()\n",
        "valores = d.values()\n",
        "items = d.items()\n",
        "print()\n",
        "print(f\"Dict d: {d}\")\n",
        "print(f\"Llaves: {llaves}\")\n",
        "print(f\"Valores: {valores}\")\n",
        "print(f\"Items: {items}\")\n",
        "\n",
        "# checar si una llave existe en un diccionario\n",
        "print()\n",
        "print(f\"llave 5 in d: {5 in d}\")\n",
        "print(f\"llabe '1' in d: {'1' in d}\")\n",
        "\n",
        "# cambiar valores\n",
        "print()\n",
        "print(f\"d antes de cambiar valor: {d}\")\n",
        "d['a'] = 'abc'\n",
        "d[4] = 42\n",
        "print(f\"d despues de cambiar valor: {d}\")\n",
        "\n",
        "# agregar elementos\n",
        "print()\n",
        "print(f\"d antes de agregar elemento: {d}\")\n",
        "d[21] = '21'\n",
        "print(f\"d despues de agregar elemento: {d}\")\n",
        "\n",
        "# eliminar elementos\n",
        "print()\n",
        "print(f\"d antes de eliminar elemento: {d}\")\n",
        "d.pop(21)\n",
        "print(f\"d despues de eliminar elemento: {d}\")"
      ]
    },
    {
      "cell_type": "code",
      "execution_count": null,
      "metadata": {
        "colab": {
          "base_uri": "https://localhost:8080/"
        },
        "id": "kA0j900eR9bC",
        "outputId": "01c9ace2-d993-4691-8fce-090754d592d5"
      },
      "outputs": [
        {
          "output_type": "stream",
          "name": "stdout",
          "text": [
            "1\n",
            "1\n",
            "2\n",
            "3\n",
            "a\n",
            "4\n"
          ]
        }
      ],
      "source": [
        "# iterar sobre diccionarios\n",
        "# for por elementos\n",
        "for elem in d:\n",
        "    print(elem)\n"
      ]
    },
    {
      "cell_type": "code",
      "execution_count": null,
      "metadata": {
        "colab": {
          "base_uri": "https://localhost:8080/"
        },
        "id": "YUxO3IBJSKqB",
        "outputId": "893780d6-671d-43d5-d3b6-3d2646d319c6"
      },
      "outputs": [
        {
          "output_type": "stream",
          "name": "stdout",
          "text": [
            "1\n",
            "uno\n",
            "2\n",
            "3\n",
            "abc\n",
            "42\n"
          ]
        }
      ],
      "source": [
        "# for por elementos, accediendo a los valores\n",
        "for elem in d:\n",
        "    print(d[elem])"
      ]
    },
    {
      "cell_type": "code",
      "execution_count": null,
      "metadata": {
        "colab": {
          "base_uri": "https://localhost:8080/"
        },
        "id": "rg0HSVWdSJnO",
        "outputId": "8b3cecd3-9bec-4e3e-d253-a0b9eaba1560"
      },
      "outputs": [
        {
          "output_type": "stream",
          "name": "stdout",
          "text": [
            "1 1\n",
            "1 uno\n",
            "2 2\n",
            "3 3\n",
            "a abc\n",
            "4 42\n"
          ]
        }
      ],
      "source": [
        "\n",
        "# iterar sobre las llaves\n",
        "for llave in d.keys():\n",
        "    print(llave, d[llave])"
      ]
    },
    {
      "cell_type": "code",
      "execution_count": null,
      "metadata": {
        "colab": {
          "base_uri": "https://localhost:8080/"
        },
        "id": "V_J0QcMVSgQb",
        "outputId": "888a8e62-fc0a-4cfc-e642-fa463e3db541"
      },
      "outputs": [
        {
          "output_type": "stream",
          "name": "stdout",
          "text": [
            "1\n",
            "uno\n",
            "2\n",
            "3\n",
            "abc\n",
            "42\n"
          ]
        }
      ],
      "source": [
        "# iterar sobre los valores\n",
        "for valor in d.values():\n",
        "    print(valor)"
      ]
    },
    {
      "cell_type": "code",
      "execution_count": null,
      "metadata": {
        "collapsed": true,
        "id": "q2n3urrOSoeW"
      },
      "outputs": [],
      "source": [
        "# [('1', 1), (1, 'uno'), ('2', 2), ('3', 3), ('a', [1, 2, 3]), (4, (1, 2, 5))]\n",
        "# iterar sobre los items\n",
        "for llave, valor in d.items():\n",
        "    print(llave, valor)"
      ]
    },
    {
      "cell_type": "markdown",
      "metadata": {
        "id": "bEWCIl64TIqU"
      },
      "source": [
        "## Condicionales\n",
        "Python soporta diferentes condicionales matemáticas, por ejemplo\n",
        "- Igualdad: a == b\n",
        "- Desigualdad: a != b\n",
        "- Menor que: a < b\n",
        "- Menor o igual que: a <= b\n",
        "- Mayor que: a > b\n",
        "- Mayor o igual que: a >= b\n",
        "\n",
        "Todas estas comparaciones regresan un valor `booleano`: `True` o `False`,\n",
        "dependiendo de a qué evalúe la expresión. El uso común de estas expresiones es\n",
        "en `if statements`.\n"
      ]
    },
    {
      "cell_type": "code",
      "execution_count": null,
      "metadata": {
        "colab": {
          "base_uri": "https://localhost:8080/"
        },
        "id": "v9QIDOZWVbP7",
        "outputId": "32d26fe0-d861-4671-8d7d-9618a1059127"
      },
      "outputs": [
        {
          "output_type": "stream",
          "name": "stdout",
          "text": [
            "False\n",
            "\n",
            "1 es menor que dos\n",
            "\n",
            "1 NO es mayor que 2\n",
            "\n",
            "1 es menor que 2\n",
            "\n",
            "1 NO es igual a 2\n"
          ]
        }
      ],
      "source": [
        "if 1 == 2:\n",
        "    print(True)\n",
        "else:\n",
        "    print(False)\n",
        "\n",
        "print()\n",
        "if 1 < 2:\n",
        "    print(\"1 es menor que dos\")\n",
        "\n",
        "print()\n",
        "if 1 > 2:\n",
        "    print(\"1 es mayor que dos\")\n",
        "else:\n",
        "    print(\"1 NO es mayor que 2\")\n",
        "\n",
        "# la instruccion elif nos permite tener más de una condicion\n",
        "print()\n",
        "if 1 == 2:\n",
        "    print(\"1 es igual a 2\")\n",
        "elif 1 < 2:\n",
        "    print(\"1 es menor que 2\")\n",
        "else:\n",
        "    print(False)\n",
        "\n",
        "# shorthand\n",
        "print()\n",
        "print(\"1 es igual a 2\") if 1 == 2 else print(\"1 NO es igual a 2\")"
      ]
    },
    {
      "cell_type": "markdown",
      "metadata": {
        "id": "eJ7mCf2keUwq"
      },
      "source": [
        "Podemos tener más de una condicional con operaciones lógicas:\n",
        "- `and`: evalúa a `True` solo si ambas expresiones son verdaderas\n",
        "- `or`: evalúa a `True` con que una de las dos epresiones sea verdadera\n",
        "- `not`: cambia el valor lógico de la expresión: de `True` a `False` y viceversa"
      ]
    },
    {
      "cell_type": "code",
      "execution_count": null,
      "metadata": {
        "colab": {
          "base_uri": "https://localhost:8080/"
        },
        "id": "Uc-ZIXDqVq9c",
        "outputId": "8f1e99e0-6f9a-45a6-e6f5-9032ccf117ec"
      },
      "outputs": [
        {
          "output_type": "stream",
          "name": "stdout",
          "text": [
            "expresiones con and\n",
            "True\n",
            "False\n",
            "\n",
            "expresiones con or\n",
            "True\n",
            "True\n",
            "False\n",
            "\n",
            "expresiones con not\n",
            "False\n",
            "True\n"
          ]
        }
      ],
      "source": [
        "print(\"expresiones con and\")\n",
        "print(1 == 1 and 2 ==2)\n",
        "print(1 == 1 and 1 == 2)\n",
        "\n",
        "print()\n",
        "print(\"expresiones con or\")\n",
        "print(1 == 2 or 2 == 2)\n",
        "print(1 == 1 or 2 == 1)\n",
        "print(1 == 2 or 3 == 4)\n",
        "\n",
        "print()\n",
        "print(\"expresiones con not\")\n",
        "print(not (1 == 1))\n",
        "print(not (1 == 2))"
      ]
    },
    {
      "cell_type": "markdown",
      "metadata": {
        "id": "HTVn4qsdf_JG"
      },
      "source": [
        "## Funciones\n",
        "Son bloques de código que solo se ejecutan cuando son llamadas; es decir, cuando\n",
        "definimos una función no se ejecutará, sino que el intérprete la almacenara para\n",
        "ejecutarla en momentos posteriores.\n",
        "\n",
        "Para definir la función se usa la palabra reservada `def`; para mandar a llamar\n",
        "a una función se utiliza el nombre de la función, seguida de paréntesis:\n",
        "`mi_funcion()`\n",
        "\n",
        "Las funciones pueden recibir argumentos, que son datos con los que van a\n",
        "trabajar."
      ]
    },
    {
      "cell_type": "code",
      "execution_count": null,
      "metadata": {
        "colab": {
          "base_uri": "https://localhost:8080/"
        },
        "id": "mGarvGHYfDfh",
        "outputId": "71d1c026-c42b-429a-bfd6-8020b76881e7"
      },
      "outputs": [
        {
          "output_type": "stream",
          "name": "stdout",
          "text": [
            "Hola, mundo\n",
            "\n",
            "Funcion suma: 3\n",
            "\n",
            "Suma asignando valores a sus variables: 26\n",
            "\n",
            "Funcion hola_2 usando el valor por default\n",
            "hola, America!\n",
            "\n",
            "Funcion hola_2 pasando un valor\n",
            "hola, Marco!\n"
          ]
        }
      ],
      "source": [
        "def hola():\n",
        "    \"\"\" funcion sin argumentos \"\"\"\n",
        "    print('Hola, mundo')\n",
        "hola()\n",
        "\n",
        "\n",
        "def suma(a, b):\n",
        "    \"\"\" suma de dos numeros a y b \"\"\"\n",
        "    return a + b\n",
        "print()\n",
        "print(f\"Funcion suma: {suma(1, 2)}\")\n",
        "\n",
        "# también podemos pasar a la función a qué variable le queremos asignar qué valor\n",
        "print()\n",
        "print(f\"Suma asignando valores a sus variables: {suma(b=22, a=4)}\")\n",
        "\n",
        "# podemos dejar valores por default\n",
        "def hola_2(nombre='America'):\n",
        "    print(f\"hola, {nombre}!\")\n",
        "\n",
        "print()\n",
        "print(\"Funcion hola_2 usando el valor por default\")\n",
        "hola_2()\n",
        "\n",
        "print()\n",
        "print(\"Funcion hola_2 pasando un valor\")\n",
        "hola_2(nombre='Marco')"
      ]
    },
    {
      "cell_type": "markdown",
      "metadata": {
        "id": "MzE2qBovwf5C"
      },
      "source": [
        "## Funciones Lambda\n",
        "Las funciones Lambda son funciones anónimas; no tiene un nombre por si mismas.\n",
        "\n",
        "Pueden tomar cualquier número de parámetros, pero solo pueden tener una\n",
        "expresión. Su sintáxis es:\n",
        "\n",
        "``` python\n",
        "lambda argumentos : expresion\n",
        "```\n",
        " Por ejemplo:\n",
        " ``` python\n",
        " x = lambda x, y: x * y + 2\n",
        " ```\n",
        "\n",
        "Las funciones lambda suelen ser de mayor utilidad cuando algún otro método nos\n",
        "pide pasar como argumento, una función que va a ejecutar. Para entenderlo mejor,\n",
        "recordemos el ejemplo para ordenar listas de acuerdo a una función propia:\n",
        "``` python\n",
        "def myfunc(n):\n",
        "  return abs(n - 50)\n",
        "\n",
        "lista = [1, 100, 50, 65, 82, 23]\n",
        "print(f\"Lista antes de ordenar: {lista}\")\n",
        "lista.sort(key=myfunc)\n",
        "print(f\"Lista despues de ordenar: {lista}\")\n",
        "```\n",
        "\n",
        "podemos lograr el mismo resultado con una función lambda:\n"
      ]
    },
    {
      "cell_type": "code",
      "execution_count": null,
      "metadata": {
        "colab": {
          "base_uri": "https://localhost:8080/"
        },
        "id": "gBQKWA0nyJZr",
        "outputId": "2502ba59-f4d4-44e5-8b7a-7c058081979d"
      },
      "outputs": [
        {
          "output_type": "stream",
          "name": "stdout",
          "text": [
            "Lista antes de ordenar: [1, 100, 50, 65, 82, 23]\n",
            "Lista despues de ordenar: [50, 65, 23, 82, 1, 100]\n"
          ]
        }
      ],
      "source": [
        "lista = [1, 100, 50, 65, 82, 23]\n",
        "print(f\"Lista antes de ordenar: {lista}\")\n",
        "lista.sort(key=lambda n: abs(n-50))\n",
        "print(f\"Lista despues de ordenar: {lista}\")"
      ]
    },
    {
      "cell_type": "markdown",
      "metadata": {
        "id": "WLJctVE1ndmy"
      },
      "source": [
        "## Numpy\n",
        "Numpy es la librería por default de **cómputo científico** de Python; las\n",
        "librerías dedicadas a Machine Learning y Redes Neuronales, como son:\n",
        "- Scikit-learn\n",
        "- Tensorflow\n",
        "- Pytorch\n",
        "requieren que los datos con los que van a trabajar sus modelos sean arreglos\n",
        "de Numpy.\n",
        "\n",
        "Un arreglo de Numpy puede conceptualizarse como colecciones de datos en\n",
        "N-dimensiones. Por ejemplo:\n",
        "- Un array de una dimension (o cero dimensiones) sería un vector\n",
        "- Un array bidimensional sería una Matriz\n",
        "- y así, sucesivamente\n"
      ]
    },
    {
      "cell_type": "code",
      "execution_count": null,
      "metadata": {
        "colab": {
          "base_uri": "https://localhost:8080/"
        },
        "id": "p4UeIjIhndmy",
        "outputId": "69a84348-3782-46d7-8f57-b24353fcfe29"
      },
      "outputs": [
        {
          "output_type": "stream",
          "name": "stdout",
          "text": [
            "El array es: [1 2 3 4 5]\n",
            "Primer elemento: 1\n",
            "Ultimo elemento: 5\n",
            "Array antes de mutacion: [1 2 3 4 5]\n",
            "Array despues de mutacion: [ 1  2 42  4  5]\n"
          ]
        }
      ],
      "source": [
        "import numpy as np\n",
        "\n",
        "# creacion de arreglo.\n",
        "a = np.array([1, 2, 3, 4, 5])\n",
        "print(f\"El array es: {a}\")\n",
        "\n",
        "# indexado como el de listas\n",
        "print(f\"Primer elemento: {a[0]}\")\n",
        "print(f\"Ultimo elemento: {a[-1]}\")\n",
        "\n",
        "# cambiar un elemento\n",
        "print(f\"Array antes de mutacion: {a}\")\n",
        "a[2] = 42\n",
        "print(f\"Array despues de mutacion: {a}\")"
      ]
    },
    {
      "cell_type": "code",
      "execution_count": null,
      "metadata": {
        "colab": {
          "base_uri": "https://localhost:8080/"
        },
        "id": "LMCwhCbcndmz",
        "outputId": "2338e84e-51b0-41bf-90ec-1fcd3332851d"
      },
      "outputs": [
        {
          "output_type": "stream",
          "name": "stdout",
          "text": [
            "Arreglo bidimensional: \n",
            "[[1 2 3]\n",
            " [4 5 6]]\n",
            "Arreglo en fila 0, columna 0: 1\n",
            "Arreglo en fila 1, columna 2: 6\n"
          ]
        }
      ],
      "source": [
        "# crear arreglo bidimensional; listas anidadas\n",
        "b = np.array([[1, 2, 3],\n",
        "              [4, 5, 6]])\n",
        "print(f\"Arreglo bidimensional: \\n{b}\")\n",
        "\n",
        "# indexado en arreglos bidimensionales\n",
        "print(f\"Arreglo en fila 0, columna 0: {b[0, 0]}\")\n",
        "print(f\"Arreglo en fila 1, columna 2: {b[1, 2]}\")"
      ]
    },
    {
      "cell_type": "code",
      "execution_count": null,
      "metadata": {
        "colab": {
          "base_uri": "https://localhost:8080/"
        },
        "id": "2PrTKVCrndm1",
        "outputId": "aaa88a29-537e-4732-c1db-635e57a38b8d"
      },
      "outputs": [
        {
          "output_type": "stream",
          "name": "stdout",
          "text": [
            "arreglos de ceros\n",
            "arreglo 1d: \n",
            "[0. 0. 0. 0. 0.]\n",
            "\n",
            "arreglo 2d: \n",
            "[[0. 0. 0.]\n",
            " [0. 0. 0.]]\n",
            "\n",
            "arreglo 3d: \n",
            "[[[0. 0. 0. 0.]\n",
            "  [0. 0. 0. 0.]\n",
            "  [0. 0. 0. 0.]]\n",
            "\n",
            " [[0. 0. 0. 0.]\n",
            "  [0. 0. 0. 0.]\n",
            "  [0. 0. 0. 0.]]]\n"
          ]
        }
      ],
      "source": [
        "\"\"\"\n",
        "funciones que crean arreglos\n",
        "\"\"\"\n",
        "\n",
        "# arreglos con puros ceros\n",
        "zeros_1d = np.zeros(5)\n",
        "zeros_2d = np.zeros((2, 3))\n",
        "zeros_3d = np.zeros((2, 3, 4))\n",
        "\n",
        "print(\"arreglos de ceros\")\n",
        "print(f\"arreglo 1d: \\n{zeros_1d}\")\n",
        "print()\n",
        "print(f\"arreglo 2d: \\n{zeros_2d}\")\n",
        "print()\n",
        "print(f\"arreglo 3d: \\n{zeros_3d}\")"
      ]
    },
    {
      "cell_type": "code",
      "execution_count": null,
      "metadata": {
        "colab": {
          "base_uri": "https://localhost:8080/"
        },
        "id": "PZgvSLWwndm3",
        "outputId": "ed18fc91-0cb0-44c3-b952-f50721ba270e"
      },
      "outputs": [
        {
          "output_type": "stream",
          "name": "stdout",
          "text": [
            "Arreglo de unos: \n",
            "[[1. 1. 1.]\n",
            " [1. 1. 1.]]\n",
            "\n",
            "Arreglo de valor especifico: \n",
            "[[[[42 42 42]\n",
            "   [42 42 42]]\n",
            "\n",
            "  [[42 42 42]\n",
            "   [42 42 42]]\n",
            "\n",
            "  [[42 42 42]\n",
            "   [42 42 42]]]\n",
            "\n",
            "\n",
            " [[[42 42 42]\n",
            "   [42 42 42]]\n",
            "\n",
            "  [[42 42 42]\n",
            "   [42 42 42]]\n",
            "\n",
            "  [[42 42 42]\n",
            "   [42 42 42]]]]\n",
            "\n",
            "\n",
            "Dimensiones de filled: 4\n",
            "\n",
            "Forma de arreglo filled: (2, 3, 2, 3)\n"
          ]
        }
      ],
      "source": [
        "# otras funciones que crean arreglos\n",
        "ones_2d = np.ones((2, 3)) # arreglos de unos\n",
        "filled = np.full((2, 3, 2, 3), 42) # arreglos con un valor especifico\n",
        "\n",
        "print(f\"Arreglo de unos: \\n{ones_2d}\")\n",
        "print()\n",
        "print(f\"Arreglo de valor especifico: \\n{filled}\")\n",
        "\n",
        "# saber las dimensiones de un arreglo\n",
        "print()\n",
        "print()\n",
        "print(f\"Dimensiones de filled: {filled.ndim}\")\n",
        "print()\n",
        "\n",
        "# saber la forma de un arreglo\n",
        "print(f\"Forma de arreglo filled: {filled.shape}\")"
      ]
    },
    {
      "cell_type": "code",
      "execution_count": null,
      "metadata": {
        "colab": {
          "base_uri": "https://localhost:8080/"
        },
        "id": "K1m_oxPtndm4",
        "outputId": "3816cbcd-915b-4228-a09a-7a04217b3432"
      },
      "outputs": [
        {
          "output_type": "stream",
          "name": "stdout",
          "text": [
            "Arreglo original: \n",
            "[[ 1  2  3  4]\n",
            " [ 5  6  7  8]\n",
            " [ 9 10 11 12]]\n",
            "\n",
            "Arreglo slice: \n",
            "[[2 3]\n",
            " [6 7]]\n"
          ]
        }
      ],
      "source": [
        "# slicing\n",
        "arr = np.array([[1, 2, 3, 4],\n",
        "                [5, 6, 7, 8],\n",
        "                [9, 10, 11, 12]])\n",
        "\n",
        "arr_slice = arr[:2, 1:3]\n",
        "print(f\"Arreglo original: \\n{arr}\")\n",
        "print()\n",
        "print(f\"Arreglo slice: \\n{arr_slice}\")\n"
      ]
    },
    {
      "cell_type": "code",
      "execution_count": null,
      "metadata": {
        "colab": {
          "base_uri": "https://localhost:8080/"
        },
        "id": "fisP67tendm5",
        "outputId": "86285635-6d49-4c14-dd0f-654323a23b0d"
      },
      "outputs": [
        {
          "output_type": "stream",
          "name": "stdout",
          "text": [
            "Arreglo original: \n",
            "[[ 1  2  3  4]\n",
            " [ 5  6  7  8]\n",
            " [ 9 10 11 12]]\n",
            "\n",
            "Arreglo original despues de mutación: \n",
            "[[    1 74088     3     4]\n",
            " [    5     6     7     8]\n",
            " [    9    10    11    12]]\n",
            "\n",
            "arreglo original: \n",
            "[[    1 74088     3     4]\n",
            " [    5     6     7     8]\n",
            " [    9    10    11    12]]\n",
            "\n",
            "arreglo copia: \n",
            "[[42 42 42 42]\n",
            " [ 5  6  7  8]\n",
            " [ 9 10 11 12]]\n"
          ]
        }
      ],
      "source": [
        "# al igual que en listas, se sobreescriben los valores\n",
        "print(f\"Arreglo original: \\n{arr}\")\n",
        "print()\n",
        "arr_slice[0, 0] = 42 ** 3\n",
        "print(f\"Arreglo original despues de mutación: \\n{arr}\")\n",
        "\n",
        "# copiar arreglos\n",
        "arr_copy = arr.copy()\n",
        "arr_copy[0, :] = 42\n",
        "print()\n",
        "print(f\"arreglo original: \\n{arr}\")\n",
        "print()\n",
        "print(f\"arreglo copia: \\n{arr_copy}\")"
      ]
    },
    {
      "cell_type": "markdown",
      "metadata": {
        "id": "5G8gWUh3ndm6"
      },
      "source": [
        "En Numpy, las operaciones entre arreglos se realizan elemento por elemento. Esto significa que si tienes dos arreglos de las mismas dimensiones, puedes sumarlos, restarlos, multiplicarlos y dividirlos directamente, y la operación se aplicará a cada par correspondiente de elementos.\n",
        "\n",
        "Por ejemplo, si tienes los arreglos `A = [a1, a2, a3]` y `B = [b1, b2, b3]`, entonces `A + B` resultará en `[a1 + b1, a2 + b2, a3 + b3]`.\n",
        "\n",
        "Además, Numpy permite el \"broadcasting\", que es una forma de realizar operaciones entre arreglos de diferentes tamaños. En términos generales, si estás intentando realizar una operación entre un arreglo bidimensional y un arreglo unidimensional, Numpy intentará \"transmitir\" los valores del arreglo unidimensional a lo largo de la dimensión correspondiente del arreglo bidimensional.\n",
        "\n",
        "Por ejemplo, si tienes un arreglo bidimensional `A = [[a1, a2, a3], [b1, b2, b3]]` y un arreglo unidimensional `B = [x, y, z]`, entonces `A + B` resultará en `[[a1 + x, a2 + y, a3 + z], [b1 + x, b2 + y, b3 + z]]`.\n",
        "\n",
        "Es importante tener en cuenta que el broadcasting solo funciona bajo ciertas reglas de compatibilidad de dimensiones. En el caso más simple, si estás intentando hacer broadcasting de un arreglo unidimensional a un arreglo bidimensional, el número de elementos en el arreglo unidimensional debe coincidir con el número de columnas en el arreglo bidimensional."
      ]
    },
    {
      "cell_type": "code",
      "execution_count": null,
      "metadata": {
        "colab": {
          "base_uri": "https://localhost:8080/"
        },
        "id": "dtYpTX4lndm6",
        "outputId": "f2e33cea-98a1-4f36-e1ff-59660798e5ff"
      },
      "outputs": [
        {
          "output_type": "stream",
          "name": "stdout",
          "text": [
            "Operaciones entre arreglos de las mismas dimensiones\n",
            "arr1: \n",
            "[[1 2 3]\n",
            " [4 5 6]]\n",
            "arr2: \n",
            "[[6 5 4]\n",
            " [3 2 1]]\n",
            "\n",
            "Suma: \n",
            "[[7 7 7]\n",
            " [7 7 7]]\n",
            "\n",
            "Resta: \n",
            "[[-5 -3 -1]\n",
            " [ 1  3  5]]\n",
            "\n",
            "Producto: \n",
            "[[ 6 10 12]\n",
            " [12 10  6]]\n",
            "\n",
            "División: \n",
            "[[0.16666667 0.4        0.75      ]\n",
            " [1.33333333 2.5        6.        ]]\n",
            "\n",
            "\n",
            "Operaciones con broadcasting\n",
            "arr1: \n",
            "[[1 2 3]\n",
            " [4 5 6]]\n",
            "arr3: \n",
            "[1 2 3]\n",
            "Suma con broadcasting (arr1 + arr3): \n",
            "[[2 4 6]\n",
            " [5 7 9]]\n",
            "\n",
            "Resta con broadcasting (arr1 - arr3): \n",
            "[[0 0 0]\n",
            " [3 3 3]]\n",
            "\n",
            "Producto con broadcasting (arr1 * arr3): \n",
            "[[ 1  4  9]\n",
            " [ 4 10 18]]\n",
            "\n",
            "División con broadcasting (arr1 / arr3): \n",
            "[[1.  1.  1. ]\n",
            " [4.  2.5 2. ]]\n"
          ]
        }
      ],
      "source": [
        "# Crear dos arreglos de las mismas dimensiones\n",
        "arr1 = np.array([[1, 2, 3], [4, 5, 6]])\n",
        "arr2 = np.array([[6, 5, 4], [3, 2, 1]])\n",
        "\n",
        "# Operaciones entre arreglos de las mismas dimensiones\n",
        "sum_arr = arr1 + arr2\n",
        "diff_arr = arr1 - arr2\n",
        "prod_arr = arr1 * arr2\n",
        "div_arr = arr1 / arr2\n",
        "\n",
        "\n",
        "print(\"Operaciones entre arreglos de las mismas dimensiones\")\n",
        "print(f\"arr1: \\n{arr1}\")\n",
        "print(f\"arr2: \\n{arr2}\")\n",
        "print()\n",
        "print(f\"Suma: \\n{sum_arr}\")\n",
        "print()\n",
        "print(f\"Resta: \\n{diff_arr}\")\n",
        "print()\n",
        "print(f\"Producto: \\n{prod_arr}\")\n",
        "print()\n",
        "print(f\"División: \\n{div_arr}\")\n",
        "\n",
        "# Crear un arreglo de una dimensión para broadcasting\n",
        "arr3 = np.array([1, 2, 3])\n",
        "\n",
        "# Operaciones con broadcasting\n",
        "sum_broadcast = arr1 + arr3\n",
        "diff_broadcast = arr1 - arr3\n",
        "prod_broadcast = arr1 * arr3\n",
        "div_broadcast = arr1 / arr3\n",
        "\n",
        "print()\n",
        "print()\n",
        "print(\"Operaciones con broadcasting\")\n",
        "print(f\"arr1: \\n{arr1}\")\n",
        "print(f\"arr3: \\n{arr3}\")\n",
        "print(f\"Suma con broadcasting (arr1 + arr3): \\n{sum_broadcast}\")\n",
        "print()\n",
        "print(f\"Resta con broadcasting (arr1 - arr3): \\n{diff_broadcast}\")\n",
        "print()\n",
        "print(f\"Producto con broadcasting (arr1 * arr3): \\n{prod_broadcast}\")\n",
        "print()\n",
        "print(f\"División con broadcasting (arr1 / arr3): \\n{div_broadcast}\")"
      ]
    },
    {
      "cell_type": "markdown",
      "metadata": {
        "id": "C07iHuda3PVP"
      },
      "source": [
        "## Gráficas y Visualizaciones\n",
        "Durante el curso, necesitaremos visualizar nuestros resultados y, para ello,\n",
        "nos apoyaremos de las librerías `matplotlib` y `seaborn`; a continuación un\n",
        "ejemplo de como se ven las gráficas en las notebooks:"
      ]
    },
    {
      "cell_type": "code",
      "execution_count": null,
      "metadata": {
        "id": "2iHsZTGPyXXl"
      },
      "outputs": [],
      "source": [
        "import seaborn as sns\n",
        "\n",
        "# Aplicar tema default\n",
        "sns.set_theme()\n",
        "\n",
        "dots = sns.load_dataset(\"dots\")\n",
        "sns.relplot(\n",
        "    data=dots, kind=\"line\",\n",
        "    x=\"time\", y=\"firing_rate\", col=\"align\",\n",
        "    hue=\"choice\", size=\"coherence\", style=\"choice\",\n",
        "    facet_kws=dict(sharex=False),\n",
        ")\n"
      ]
    },
    {
      "cell_type": "markdown",
      "metadata": {
        "id": "kTu0xa4-bxHd"
      },
      "source": [
        "# Ejercicios\n",
        "## Listas\n",
        "1. Crea una lista de 10 números\n",
        "2. Crea una función que recibe como entrada una lista, que regrese una lista con únicamente los números pares de la entrada\n",
        "3. Crea una función que recibe como entrada una lista, que regrese una lista con únicamente los números impares de la entrada\n",
        "4. Crea una función que recibe como entrada una lista, que regrese una **tupla** de dos elementos, cada uno de los elementos es una lista, de números\n",
        "pares e impares de la entrada, respectivamente.\n",
        "\n"
      ]
    },
    {
      "cell_type": "code",
      "execution_count": null,
      "metadata": {
        "id": "Lmo42NTD3srh",
        "colab": {
          "base_uri": "https://localhost:8080/"
        },
        "outputId": "b43b130a-1fc3-4ca1-a18a-b0c7003f6b98"
      },
      "outputs": [
        {
          "output_type": "stream",
          "name": "stdout",
          "text": [
            "tuplas de listas (par, impar): \n",
            "([0, 2, 4, 6, 8], [1, 3, 5, 7, 9])\n"
          ]
        }
      ],
      "source": [
        "lista_numeros = [0, 1, 2, 3, 4, 5, 6, 7, 8, 9]\n",
        "def numero_de_pares(lista):\n",
        "    lista_pares = []\n",
        "    lista_impares = []\n",
        "    for num in lista:\n",
        "        if num % 2 == 0:\n",
        "            lista_pares.append(num)\n",
        "        else:\n",
        "            lista_impares.append(num)\n",
        "\n",
        "\n",
        "    tup = (lista_pares, lista_impares)\n",
        "    print(f\"tuplas de listas (par, impar): \\n{tup}\")\n",
        "\n",
        "numero_de_pares(lista_numeros)"
      ]
    },
    {
      "cell_type": "markdown",
      "metadata": {
        "id": "UTYPTLpXdQGE"
      },
      "source": [
        "## Tuplas\n",
        "5. Crea una tupla de cuatro elementos: `(nombre, edad, mail, telefono)`;\n",
        "desempaque la tupla en cuatro variables\n",
        "6. desempaque la tupla del ejercicio 4, en dos listas: pares e impares.\n",
        "7. Crea dos tuplas que contengan algunos elementos en común; crea una funcion que reciba dos tuplas, y regrese una lista de todos los elementos que tienen en\n",
        "común ambas tuplas\n",
        "\n"
      ]
    },
    {
      "cell_type": "code",
      "execution_count": null,
      "metadata": {
        "id": "r3krLSsbesT4",
        "colab": {
          "base_uri": "https://localhost:8080/"
        },
        "outputId": "65762b30-b9ac-414b-9740-c019e84a2a02"
      },
      "outputs": [
        {
          "output_type": "stream",
          "name": "stdout",
          "text": [
            "[4, 5, 6]\n"
          ]
        }
      ],
      "source": [
        "a = (1, 2, 3, 4, 5, 6)\n",
        "b = (4, 5, 6, 7, 8, 9)\n",
        "\n",
        "def x(a, b):\n",
        "    c = [num for num in a if num in b]\n",
        "    print(c)\n",
        "\n",
        "x(a, b)"
      ]
    },
    {
      "cell_type": "markdown",
      "metadata": {
        "id": "mJKoQz1Iesmp"
      },
      "source": [
        "## Diccionarios\n",
        "8. Crea un diccionario que contenga la información de 4 personas. Las *llaves*\n",
        "del diccionario serán sus nombres, y los *valores* serán su edad\n",
        "9. Imprime, usando `print`, los nombres y edades de los elementos del diccionario del ejercicio anterior\n"
      ]
    },
    {
      "cell_type": "code",
      "execution_count": null,
      "metadata": {
        "id": "1Cn2kVaGfgsm",
        "colab": {
          "base_uri": "https://localhost:8080/"
        },
        "outputId": "6b8486b1-c958-4123-80d8-0d3b7c23eacf"
      },
      "outputs": [
        {
          "output_type": "stream",
          "name": "stdout",
          "text": [
            "marco 29\n",
            "jorge 40\n",
            "rodrigo 15\n"
          ]
        }
      ],
      "source": [
        "edades = {'marco': 29, 'jorge': 40, 'rodrigo': 15}\n",
        "\n",
        "for nombre, edad in edades.items():\n",
        "    print(nombre, edad)"
      ]
    },
    {
      "cell_type": "markdown",
      "metadata": {
        "id": "QM1RI1fUfg5W"
      },
      "source": [
        "## If-elif-else Statements:\n",
        "10. Escribe una función que reciba como entrada un número entero, e imprima\n",
        "*par* o *impar*, según sea el caso\n",
        "11. Escribe una función que reciba un entero como entrada e imprima *divisible entre 3 y 5*, *divisible solo entre 3*, *divisible solo entre 5* o\n",
        "*no es divisible ni por 3 ni por 5*.\n",
        "\n",
        "\n"
      ]
    },
    {
      "cell_type": "code",
      "execution_count": null,
      "metadata": {
        "id": "ASQupgDKgWqu",
        "colab": {
          "base_uri": "https://localhost:8080/"
        },
        "outputId": "33baa618-ac5e-4e4a-fbe4-9b9c9f54ea60"
      },
      "outputs": [
        {
          "output_type": "stream",
          "name": "stdout",
          "text": [
            "divisible entre 5\n"
          ]
        }
      ],
      "source": [
        "def numero_de_pares(num):\n",
        "    div_3 = num % 3 == 0\n",
        "    div_5 = num % 5 == 0\n",
        "    if div_3 and div_5:\n",
        "        print('divisible entre 3 y 5')\n",
        "    elif div_3:\n",
        "        print('divisible entre 3')\n",
        "    elif div_5:\n",
        "        print('divisible entre 5')\n",
        "    else:\n",
        "        print('ninguno')\n",
        "\n",
        "numero_de_pares(25)"
      ]
    },
    {
      "cell_type": "markdown",
      "metadata": {
        "id": "hgKDiiOIgVrr"
      },
      "source": [
        "## Funciones\n",
        "Functions and Default Arguments:\n",
        "12. Crea una función que tome dos parametros: una *string* (cadena de\n",
        "caracteres), y opcional, un número *n* con valor default=1. La función debe imprimir *n* veces la cadena."
      ]
    },
    {
      "cell_type": "code",
      "execution_count": null,
      "metadata": {
        "id": "wg2inFPCfnXn"
      },
      "outputs": [],
      "source": [
        "# TODO"
      ]
    },
    {
      "cell_type": "code",
      "execution_count": null,
      "metadata": {
        "id": "LYqXmkxCg67U"
      },
      "outputs": [],
      "source": []
    }
  ],
  "metadata": {
    "colab": {
      "provenance": []
    },
    "kernelspec": {
      "display_name": "Python 3",
      "name": "python3"
    },
    "language_info": {
      "codemirror_mode": {
        "name": "ipython",
        "version": 3
      },
      "file_extension": ".py",
      "mimetype": "text/x-python",
      "name": "python",
      "nbconvert_exporter": "python",
      "pygments_lexer": "ipython3",
      "version": "3.8.15"
    }
  },
  "nbformat": 4,
  "nbformat_minor": 0
}